{
 "cells": [
  {
   "cell_type": "code",
   "execution_count": 5,
   "id": "0e139151",
   "metadata": {},
   "outputs": [
    {
     "name": "stdout",
     "output_type": "stream",
     "text": [
      "Requirement already satisfied: pandas in c:\\users\\asus\\appdata\\local\\programs\\python\\python311\\lib\\site-packages (2.3.0)\n",
      "Requirement already satisfied: numpy in c:\\users\\asus\\appdata\\local\\programs\\python\\python311\\lib\\site-packages (2.0.2)\n",
      "Requirement already satisfied: seaborn in c:\\users\\asus\\appdata\\local\\programs\\python\\python311\\lib\\site-packages (0.13.2)\n",
      "Requirement already satisfied: matplotlib in c:\\users\\asus\\appdata\\local\\programs\\python\\python311\\lib\\site-packages (3.10.3)\n",
      "Requirement already satisfied: python-dateutil>=2.8.2 in c:\\users\\asus\\appdata\\local\\programs\\python\\python311\\lib\\site-packages (from pandas) (2.9.0.post0)\n",
      "Requirement already satisfied: pytz>=2020.1 in c:\\users\\asus\\appdata\\local\\programs\\python\\python311\\lib\\site-packages (from pandas) (2025.2)\n",
      "Requirement already satisfied: tzdata>=2022.7 in c:\\users\\asus\\appdata\\local\\programs\\python\\python311\\lib\\site-packages (from pandas) (2025.2)\n",
      "Requirement already satisfied: contourpy>=1.0.1 in c:\\users\\asus\\appdata\\local\\programs\\python\\python311\\lib\\site-packages (from matplotlib) (1.3.2)\n",
      "Requirement already satisfied: cycler>=0.10 in c:\\users\\asus\\appdata\\local\\programs\\python\\python311\\lib\\site-packages (from matplotlib) (0.12.1)\n",
      "Requirement already satisfied: fonttools>=4.22.0 in c:\\users\\asus\\appdata\\local\\programs\\python\\python311\\lib\\site-packages (from matplotlib) (4.58.5)\n",
      "Requirement already satisfied: kiwisolver>=1.3.1 in c:\\users\\asus\\appdata\\local\\programs\\python\\python311\\lib\\site-packages (from matplotlib) (1.4.8)\n",
      "Requirement already satisfied: packaging>=20.0 in c:\\users\\asus\\appdata\\local\\programs\\python\\python311\\lib\\site-packages (from matplotlib) (24.2)\n",
      "Requirement already satisfied: pillow>=8 in c:\\users\\asus\\appdata\\local\\programs\\python\\python311\\lib\\site-packages (from matplotlib) (11.3.0)\n",
      "Requirement already satisfied: pyparsing>=2.3.1 in c:\\users\\asus\\appdata\\local\\programs\\python\\python311\\lib\\site-packages (from matplotlib) (3.2.3)\n",
      "Requirement already satisfied: six>=1.5 in c:\\users\\asus\\appdata\\local\\programs\\python\\python311\\lib\\site-packages (from python-dateutil>=2.8.2->pandas) (1.17.0)\n",
      "Note: you may need to restart the kernel to use updated packages.\n"
     ]
    },
    {
     "ename": "ModuleNotFoundError",
     "evalue": "No module named 'plotly'",
     "output_type": "error",
     "traceback": [
      "\u001b[31m---------------------------------------------------------------------------\u001b[39m",
      "\u001b[31mModuleNotFoundError\u001b[39m                       Traceback (most recent call last)",
      "\u001b[36mCell\u001b[39m\u001b[36m \u001b[39m\u001b[32mIn[5]\u001b[39m\u001b[32m, line 7\u001b[39m\n\u001b[32m      5\u001b[39m \u001b[38;5;28;01mimport\u001b[39;00m\u001b[38;5;250m \u001b[39m\u001b[34;01mseaborn\u001b[39;00m\u001b[38;5;250m \u001b[39m\u001b[38;5;28;01mas\u001b[39;00m\u001b[38;5;250m \u001b[39m\u001b[34;01msns\u001b[39;00m \n\u001b[32m      6\u001b[39m \u001b[38;5;28;01mimport\u001b[39;00m\u001b[38;5;250m \u001b[39m\u001b[34;01mmatplotlib\u001b[39;00m\u001b[34;01m.\u001b[39;00m\u001b[34;01mpyplot\u001b[39;00m\u001b[38;5;250m \u001b[39m\u001b[38;5;28;01mas\u001b[39;00m\u001b[38;5;250m \u001b[39m\u001b[34;01mplt\u001b[39;00m\n\u001b[32m----> \u001b[39m\u001b[32m7\u001b[39m \u001b[38;5;28;01mimport\u001b[39;00m\u001b[38;5;250m \u001b[39m\u001b[34;01mplotly\u001b[39;00m\u001b[34;01m.\u001b[39;00m\u001b[34;01mexpress\u001b[39;00m\u001b[38;5;250m \u001b[39m\u001b[38;5;28;01mas\u001b[39;00m\u001b[38;5;250m \u001b[39m\u001b[34;01mpx\u001b[39;00m  \n\u001b[32m      8\u001b[39m sns.set(style=\u001b[33m\"\u001b[39m\u001b[33mwhitegrid\u001b[39m\u001b[33m\"\u001b[39m)\n",
      "\u001b[31mModuleNotFoundError\u001b[39m: No module named 'plotly'"
     ]
    }
   ],
   "source": [
    "%pip install pandas numpy seaborn matplotlib\n",
    "\n",
    "import pandas as pd \n",
    "import numpy as np \n",
    "import seaborn as sns \n",
    "import matplotlib.pyplot as plt\n",
    "import plotly.express as px  \n",
    "sns.set(style=\"whitegrid\")\n"
   ]
  },
  {
   "cell_type": "code",
   "execution_count": 6,
   "id": "709a9588",
   "metadata": {},
   "outputs": [],
   "source": [
    "df = pd.read_csv(r\"C:\\Users\\ASUS\\Desktop\\DS credora\\API_SP.POP.TOTL_DS2_en_csv_v2_38144.csv\", skiprows=4)\n"
   ]
  },
  {
   "cell_type": "code",
   "execution_count": 7,
   "id": "e6b9c44a",
   "metadata": {},
   "outputs": [
    {
     "name": "stdout",
     "output_type": "stream",
     "text": [
      "<class 'pandas.core.frame.DataFrame'>\n",
      "RangeIndex: 266 entries, 0 to 265\n",
      "Data columns (total 70 columns):\n",
      " #   Column          Non-Null Count  Dtype  \n",
      "---  ------          --------------  -----  \n",
      " 0   Country Name    266 non-null    object \n",
      " 1   Country Code    266 non-null    object \n",
      " 2   Indicator Name  266 non-null    object \n",
      " 3   Indicator Code  266 non-null    object \n",
      " 4   1960            264 non-null    float64\n",
      " 5   1961            264 non-null    float64\n",
      " 6   1962            264 non-null    float64\n",
      " 7   1963            264 non-null    float64\n",
      " 8   1964            264 non-null    float64\n",
      " 9   1965            264 non-null    float64\n",
      " 10  1966            264 non-null    float64\n",
      " 11  1967            264 non-null    float64\n",
      " 12  1968            264 non-null    float64\n",
      " 13  1969            264 non-null    float64\n",
      " 14  1970            264 non-null    float64\n",
      " 15  1971            264 non-null    float64\n",
      " 16  1972            264 non-null    float64\n",
      " 17  1973            264 non-null    float64\n",
      " 18  1974            264 non-null    float64\n",
      " 19  1975            264 non-null    float64\n",
      " 20  1976            264 non-null    float64\n",
      " 21  1977            264 non-null    float64\n",
      " 22  1978            264 non-null    float64\n",
      " 23  1979            264 non-null    float64\n",
      " 24  1980            264 non-null    float64\n",
      " 25  1981            264 non-null    float64\n",
      " 26  1982            264 non-null    float64\n",
      " 27  1983            264 non-null    float64\n",
      " 28  1984            264 non-null    float64\n",
      " 29  1985            264 non-null    float64\n",
      " 30  1986            264 non-null    float64\n",
      " 31  1987            264 non-null    float64\n",
      " 32  1988            264 non-null    float64\n",
      " 33  1989            264 non-null    float64\n",
      " 34  1990            265 non-null    float64\n",
      " 35  1991            265 non-null    float64\n",
      " 36  1992            265 non-null    float64\n",
      " 37  1993            265 non-null    float64\n",
      " 38  1994            265 non-null    float64\n",
      " 39  1995            265 non-null    float64\n",
      " 40  1996            265 non-null    float64\n",
      " 41  1997            265 non-null    float64\n",
      " 42  1998            265 non-null    float64\n",
      " 43  1999            265 non-null    float64\n",
      " 44  2000            265 non-null    float64\n",
      " 45  2001            265 non-null    float64\n",
      " 46  2002            265 non-null    float64\n",
      " 47  2003            265 non-null    float64\n",
      " 48  2004            265 non-null    float64\n",
      " 49  2005            265 non-null    float64\n",
      " 50  2006            265 non-null    float64\n",
      " 51  2007            265 non-null    float64\n",
      " 52  2008            265 non-null    float64\n",
      " 53  2009            265 non-null    float64\n",
      " 54  2010            265 non-null    float64\n",
      " 55  2011            265 non-null    float64\n",
      " 56  2012            265 non-null    float64\n",
      " 57  2013            265 non-null    float64\n",
      " 58  2014            265 non-null    float64\n",
      " 59  2015            265 non-null    float64\n",
      " 60  2016            265 non-null    float64\n",
      " 61  2017            265 non-null    float64\n",
      " 62  2018            265 non-null    float64\n",
      " 63  2019            265 non-null    float64\n",
      " 64  2020            265 non-null    float64\n",
      " 65  2021            265 non-null    float64\n",
      " 66  2022            265 non-null    float64\n",
      " 67  2023            265 non-null    float64\n",
      " 68  2024            265 non-null    float64\n",
      " 69  Unnamed: 69     0 non-null      float64\n",
      "dtypes: float64(66), object(4)\n",
      "memory usage: 145.6+ KB\n",
      "None\n"
     ]
    }
   ],
   "source": [
    "print(df.info())"
   ]
  },
  {
   "cell_type": "code",
   "execution_count": 8,
   "id": "536448c4",
   "metadata": {},
   "outputs": [
    {
     "name": "stdout",
     "output_type": "stream",
     "text": [
      "                  Country Name Country Code     Indicator Name Indicator Code  \\\n",
      "0                        Aruba          ABW  Population, total    SP.POP.TOTL   \n",
      "1  Africa Eastern and Southern          AFE  Population, total    SP.POP.TOTL   \n",
      "2                  Afghanistan          AFG  Population, total    SP.POP.TOTL   \n",
      "3   Africa Western and Central          AFW  Population, total    SP.POP.TOTL   \n",
      "4                       Angola          AGO  Population, total    SP.POP.TOTL   \n",
      "\n",
      "          1960         1961         1962         1963         1964  \\\n",
      "0      54922.0      55578.0      56320.0      57002.0      57619.0   \n",
      "1  130075728.0  133534923.0  137171659.0  140945536.0  144904094.0   \n",
      "2    9035043.0    9214083.0    9404406.0    9604487.0    9814318.0   \n",
      "3   97630925.0   99706674.0  101854756.0  104089175.0  106388440.0   \n",
      "4    5231654.0    5301583.0    5354310.0    5408320.0    5464187.0   \n",
      "\n",
      "          1965  ...         2016         2017         2018         2019  \\\n",
      "0      58190.0  ...     108727.0     108735.0     108908.0     109203.0   \n",
      "1  149033472.0  ...  623369401.0  640058741.0  657801085.0  675950189.0   \n",
      "2   10036008.0  ...   34700612.0   35688935.0   36743039.0   37856121.0   \n",
      "3  108772632.0  ...  429454743.0  440882906.0  452195915.0  463365429.0   \n",
      "4    5521981.0  ...   29183070.0   30234839.0   31297155.0   32375632.0   \n",
      "\n",
      "          2020         2021         2022         2023         2024  \\\n",
      "0     108587.0     107700.0     107310.0     107359.0     107624.0   \n",
      "1  694446100.0  713090928.0  731821393.0  750503764.0  769294618.0   \n",
      "2   39068979.0   40000412.0   40578842.0   41454761.0   42647492.0   \n",
      "3  474569351.0  485920997.0  497387180.0  509398589.0  521764076.0   \n",
      "4   33451132.0   34532429.0   35635029.0   36749906.0   37885849.0   \n",
      "\n",
      "   Unnamed: 69  \n",
      "0          NaN  \n",
      "1          NaN  \n",
      "2          NaN  \n",
      "3          NaN  \n",
      "4          NaN  \n",
      "\n",
      "[5 rows x 70 columns]\n"
     ]
    }
   ],
   "source": [
    "print(df.head())"
   ]
  },
  {
   "cell_type": "code",
   "execution_count": 9,
   "id": "bfa24d65",
   "metadata": {},
   "outputs": [
    {
     "name": "stdout",
     "output_type": "stream",
     "text": [
      "               1960          1961          1962          1963          1964  \\\n",
      "count  2.640000e+02  2.640000e+02  2.640000e+02  2.640000e+02  2.640000e+02   \n",
      "mean   1.154023e+08  1.170070e+08  1.191678e+08  1.218381e+08  1.245322e+08   \n",
      "std    3.616526e+08  3.661347e+08  3.727681e+08  3.813687e+08  3.900162e+08   \n",
      "min    2.715000e+03  2.970000e+03  3.264000e+03  3.584000e+03  3.922000e+03   \n",
      "25%    5.152028e+05  5.255230e+05  5.363018e+05  5.475875e+05  5.593638e+05   \n",
      "50%    3.659633e+06  3.747132e+06  3.831900e+06  3.919710e+06  4.010150e+06   \n",
      "75%    2.686293e+07  2.761326e+07  2.837302e+07  2.915448e+07  2.995223e+07   \n",
      "max    3.021513e+09  3.062768e+09  3.117372e+09  3.184063e+09  3.251253e+09   \n",
      "\n",
      "               1965          1966          1967          1968          1969  \\\n",
      "count  2.640000e+02  2.640000e+02  2.640000e+02  2.640000e+02  2.640000e+02   \n",
      "mean   1.272581e+08  1.301037e+08  1.329570e+08  1.358851e+08  1.389115e+08   \n",
      "std    3.987697e+08  4.079989e+08  4.172145e+08  4.266937e+08  4.365313e+08   \n",
      "min    4.282000e+03  4.664000e+03  5.071000e+03  5.500000e+03  5.631000e+03   \n",
      "25%    5.675750e+05  5.711695e+05  5.779525e+05  5.825170e+05  5.861185e+05   \n",
      "50%    4.102976e+06  4.198738e+06  4.297792e+06  4.396290e+06  4.503420e+06   \n",
      "75%    3.075921e+07  3.147516e+07  3.203946e+07  3.247057e+07  3.277149e+07   \n",
      "max    3.318998e+09  3.389087e+09  3.459015e+09  3.530704e+09  3.604816e+09   \n",
      "\n",
      "       ...          2016          2017          2018          2019  \\\n",
      "count  ...  2.650000e+02  2.650000e+02  2.650000e+02  2.650000e+02   \n",
      "mean   ...  3.040350e+08  3.078574e+08  3.116049e+08  3.152801e+08   \n",
      "std    ...  9.447450e+08  9.557617e+08  9.664403e+08  9.768047e+08   \n",
      "min    ...  1.093000e+04  1.086900e+04  1.075100e+04  1.058100e+04   \n",
      "25%    ...  1.777568e+06  1.791019e+06  1.797086e+06  1.788891e+06   \n",
      "50%    ...  1.032545e+07  1.025915e+07  1.028382e+07  1.042338e+07   \n",
      "75%    ...  6.011522e+07  6.000225e+07  6.014866e+07  5.972908e+07   \n",
      "max    ...  7.529067e+09  7.614749e+09  7.697492e+09  7.778304e+09   \n",
      "\n",
      "               2020          2021          2022          2023          2024  \\\n",
      "count  2.650000e+02  2.650000e+02  2.650000e+02  2.650000e+02  2.650000e+02   \n",
      "mean   3.187967e+08  3.219557e+08  3.251253e+08  3.284356e+08  3.318869e+08   \n",
      "std    9.866025e+08  9.952966e+08  1.003734e+09  1.012519e+09  1.021734e+09   \n",
      "min    1.039900e+04  1.019400e+04  9.992000e+03  9.816000e+03  9.646000e+03   \n",
      "25%    1.790151e+06  1.786079e+06  1.803545e+06  1.827816e+06  1.792179e+06   \n",
      "50%    1.069786e+07  1.050577e+07  1.048694e+07  1.064485e+07  1.087698e+07   \n",
      "75%    6.097280e+07  6.283041e+07  6.471182e+07  6.661761e+07  6.851670e+07   \n",
      "max    7.855075e+09  7.920862e+09  7.990400e+09  8.064977e+09  8.142056e+09   \n",
      "\n",
      "       Unnamed: 69  \n",
      "count          0.0  \n",
      "mean           NaN  \n",
      "std            NaN  \n",
      "min            NaN  \n",
      "25%            NaN  \n",
      "50%            NaN  \n",
      "75%            NaN  \n",
      "max            NaN  \n",
      "\n",
      "[8 rows x 66 columns]\n"
     ]
    }
   ],
   "source": [
    "print(df.describe())"
   ]
  },
  {
   "cell_type": "code",
   "execution_count": 10,
   "id": "0ff585b6",
   "metadata": {},
   "outputs": [
    {
     "name": "stdout",
     "output_type": "stream",
     "text": [
      "     Country Name  Country Code  Indicator Name  Indicator Code   1960   1961  \\\n",
      "0           False         False           False           False  False  False   \n",
      "1           False         False           False           False  False  False   \n",
      "2           False         False           False           False  False  False   \n",
      "3           False         False           False           False  False  False   \n",
      "4           False         False           False           False  False  False   \n",
      "..            ...           ...             ...             ...    ...    ...   \n",
      "261         False         False           False           False  False  False   \n",
      "262         False         False           False           False  False  False   \n",
      "263         False         False           False           False  False  False   \n",
      "264         False         False           False           False  False  False   \n",
      "265         False         False           False           False  False  False   \n",
      "\n",
      "      1962   1963   1964   1965  ...   2016   2017   2018   2019   2020  \\\n",
      "0    False  False  False  False  ...  False  False  False  False  False   \n",
      "1    False  False  False  False  ...  False  False  False  False  False   \n",
      "2    False  False  False  False  ...  False  False  False  False  False   \n",
      "3    False  False  False  False  ...  False  False  False  False  False   \n",
      "4    False  False  False  False  ...  False  False  False  False  False   \n",
      "..     ...    ...    ...    ...  ...    ...    ...    ...    ...    ...   \n",
      "261  False  False  False  False  ...  False  False  False  False  False   \n",
      "262  False  False  False  False  ...  False  False  False  False  False   \n",
      "263  False  False  False  False  ...  False  False  False  False  False   \n",
      "264  False  False  False  False  ...  False  False  False  False  False   \n",
      "265  False  False  False  False  ...  False  False  False  False  False   \n",
      "\n",
      "      2021   2022   2023   2024  Unnamed: 69  \n",
      "0    False  False  False  False         True  \n",
      "1    False  False  False  False         True  \n",
      "2    False  False  False  False         True  \n",
      "3    False  False  False  False         True  \n",
      "4    False  False  False  False         True  \n",
      "..     ...    ...    ...    ...          ...  \n",
      "261  False  False  False  False         True  \n",
      "262  False  False  False  False         True  \n",
      "263  False  False  False  False         True  \n",
      "264  False  False  False  False         True  \n",
      "265  False  False  False  False         True  \n",
      "\n",
      "[266 rows x 70 columns]\n"
     ]
    }
   ],
   "source": [
    "print(df.isnull())"
   ]
  },
  {
   "cell_type": "code",
   "execution_count": 11,
   "id": "75f41c72",
   "metadata": {},
   "outputs": [
    {
     "name": "stdout",
     "output_type": "stream",
     "text": [
      "                    Country Name Country Code     Indicator Name  \\\n",
      "0                          Aruba          ABW  Population, total   \n",
      "1    Africa Eastern and Southern          AFE  Population, total   \n",
      "2                    Afghanistan          AFG  Population, total   \n",
      "3     Africa Western and Central          AFW  Population, total   \n",
      "4                         Angola          AGO  Population, total   \n",
      "..                           ...          ...                ...   \n",
      "261                       Kosovo          XKX  Population, total   \n",
      "262                  Yemen, Rep.          YEM  Population, total   \n",
      "263                 South Africa          ZAF  Population, total   \n",
      "264                       Zambia          ZMB  Population, total   \n",
      "265                     Zimbabwe          ZWE  Population, total   \n",
      "\n",
      "    Indicator Code         1960         1961         1962         1963  \\\n",
      "0      SP.POP.TOTL      54922.0      55578.0      56320.0      57002.0   \n",
      "1      SP.POP.TOTL  130075728.0  133534923.0  137171659.0  140945536.0   \n",
      "2      SP.POP.TOTL    9035043.0    9214083.0    9404406.0    9604487.0   \n",
      "3      SP.POP.TOTL   97630925.0   99706674.0  101854756.0  104089175.0   \n",
      "4      SP.POP.TOTL    5231654.0    5301583.0    5354310.0    5408320.0   \n",
      "..             ...          ...          ...          ...          ...   \n",
      "261    SP.POP.TOTL     984846.0    1011421.0    1036950.0    1062737.0   \n",
      "262    SP.POP.TOTL    5532301.0    5655232.0    5782221.0    5911135.0   \n",
      "263    SP.POP.TOTL   16440172.0   16908035.0   17418522.0   17954564.0   \n",
      "264    SP.POP.TOTL    3153729.0    3254086.0    3358099.0    3465907.0   \n",
      "265    SP.POP.TOTL    3809389.0    3930401.0    4055959.0    4185877.0   \n",
      "\n",
      "            1964         1965  ...         2016         2017         2018  \\\n",
      "0        57619.0      58190.0  ...     108727.0     108735.0     108908.0   \n",
      "1    144904094.0  149033472.0  ...  623369401.0  640058741.0  657801085.0   \n",
      "2      9814318.0   10036008.0  ...   34700612.0   35688935.0   36743039.0   \n",
      "3    106388440.0  108772632.0  ...  429454743.0  440882906.0  452195915.0   \n",
      "4      5464187.0    5521981.0  ...   29183070.0   30234839.0   31297155.0   \n",
      "..           ...          ...  ...          ...          ...          ...   \n",
      "261    1090270.0    1120168.0  ...    1777568.0    1791019.0    1797086.0   \n",
      "262    6048006.0    6195593.0  ...   32109010.0   33090921.0   34085182.0   \n",
      "263   18511361.0   19089380.0  ...   57259551.0   57635162.0   58613001.0   \n",
      "264    3577017.0    3692086.0  ...   16914423.0   17441320.0   17973569.0   \n",
      "265    4320006.0    4458462.0  ...   14600294.0   14812482.0   15034452.0   \n",
      "\n",
      "            2019         2020         2021         2022         2023  \\\n",
      "0       109203.0     108587.0     107700.0     107310.0     107359.0   \n",
      "1    675950189.0  694446100.0  713090928.0  731821393.0  750503764.0   \n",
      "2     37856121.0   39068979.0   40000412.0   40578842.0   41454761.0   \n",
      "3    463365429.0  474569351.0  485920997.0  497387180.0  509398589.0   \n",
      "4     32375632.0   33451132.0   34532429.0   35635029.0   36749906.0   \n",
      "..           ...          ...          ...          ...          ...   \n",
      "261    1788891.0    1790151.0    1786079.0    1768096.0    1682668.0   \n",
      "262   35111408.0   36134863.0   37140230.0   38222876.0   39390799.0   \n",
      "263   59587885.0   60562381.0   61502603.0   62378410.0   63212384.0   \n",
      "264   18513839.0   19059395.0   19603607.0   20152938.0   20723965.0   \n",
      "265   15271368.0   15526888.0   15797210.0   16069056.0   16340822.0   \n",
      "\n",
      "            2024  Unnamed: 69  \n",
      "0       107624.0          0.0  \n",
      "1    769294618.0          0.0  \n",
      "2     42647492.0          0.0  \n",
      "3    521764076.0          0.0  \n",
      "4     37885849.0          0.0  \n",
      "..           ...          ...  \n",
      "261    1527324.0          0.0  \n",
      "262   40583164.0          0.0  \n",
      "263   64007187.0          0.0  \n",
      "264   21314956.0          0.0  \n",
      "265   16634373.0          0.0  \n",
      "\n",
      "[266 rows x 70 columns]\n"
     ]
    }
   ],
   "source": [
    "print(df.fillna(0))"
   ]
  },
  {
   "cell_type": "code",
   "execution_count": null,
   "id": "7e66bff7",
   "metadata": {},
   "outputs": [
    {
     "name": "stdout",
     "output_type": "stream",
     "text": [
      "Country Name        0\n",
      "Country Code        0\n",
      "Indicator Name      0\n",
      "Indicator Code      0\n",
      "1960                2\n",
      "                 ... \n",
      "2021                1\n",
      "2022                1\n",
      "2023                1\n",
      "2024                1\n",
      "Unnamed: 69       266\n",
      "Length: 70, dtype: int64\n"
     ]
    }
   ],
   "source": [
    "print(df.isnull().sum())"
   ]
  },
  {
   "cell_type": "code",
   "execution_count": 12,
   "id": "6c0b3299",
   "metadata": {},
   "outputs": [
    {
     "name": "stdout",
     "output_type": "stream",
     "text": [
      "Index(['Country Name', 'Country Code', 'Indicator Name', 'Indicator Code',\n",
      "       '1960', '1961', '1962', '1963', '1964', '1965', '1966', '1967', '1968',\n",
      "       '1969', '1970', '1971', '1972', '1973', '1974', '1975', '1976', '1977',\n",
      "       '1978', '1979', '1980', '1981', '1982', '1983', '1984', '1985', '1986',\n",
      "       '1987', '1988', '1989', '1990', '1991', '1992', '1993', '1994', '1995',\n",
      "       '1996', '1997', '1998', '1999', '2000', '2001', '2002', '2003', '2004',\n",
      "       '2005', '2006', '2007', '2008', '2009', '2010', '2011', '2012', '2013',\n",
      "       '2014', '2015', '2016', '2017', '2018', '2019', '2020', '2021', '2022',\n",
      "       '2023', '2024', 'Unnamed: 69'],\n",
      "      dtype='object')\n"
     ]
    }
   ],
   "source": [
    "print(df.columns)"
   ]
  },
  {
   "cell_type": "code",
   "execution_count": 13,
   "id": "e41b96e1",
   "metadata": {},
   "outputs": [
    {
     "name": "stdout",
     "output_type": "stream",
     "text": [
      "Country Name       object\n",
      "Country Code       object\n",
      "Indicator Name     object\n",
      "Indicator Code     object\n",
      "1960              float64\n",
      "                   ...   \n",
      "2021              float64\n",
      "2022              float64\n",
      "2023              float64\n",
      "2024              float64\n",
      "Unnamed: 69       float64\n",
      "Length: 70, dtype: object\n"
     ]
    }
   ],
   "source": [
    "print(df.dtypes)"
   ]
  },
  {
   "cell_type": "code",
   "execution_count": 14,
   "id": "2681ec9c",
   "metadata": {},
   "outputs": [],
   "source": [
    "df.drop(columns=['Unnamed: 69'], inplace=True)\n"
   ]
  },
  {
   "cell_type": "code",
   "execution_count": 27,
   "id": "e4505392",
   "metadata": {},
   "outputs": [],
   "source": [
    "year = '2020'"
   ]
  },
  {
   "cell_type": "code",
   "execution_count": 28,
   "id": "b5c12ae5",
   "metadata": {},
   "outputs": [],
   "source": [
    "df_year = df[['Country Name', year]].dropna()"
   ]
  },
  {
   "cell_type": "markdown",
   "id": "507dcc05",
   "metadata": {},
   "source": [
    " Plot the Histogram for Population Distribution"
   ]
  },
  {
   "cell_type": "code",
   "execution_count": null,
   "id": "0694c378",
   "metadata": {},
   "outputs": [
    {
     "data": {
      "image/png": "[encoded data removed]",
      "text/plain": [
       "<Figure size 640x480 with 1 Axes>"
      ]
     },
     "metadata": {},
     "output_type": "display_data"
    }
   ],
   "source": [
    "plt.hist(df_year[year], bins=30, color='skyblue', edgecolor='black')\n",
    "plt.title(f\"Population Distribution across Countries in {year}\")\n",
    "plt.xlabel(\"Population\")\n",
    "plt.ylabel(\"Number of Countries\")\n",
    "plt.grid(True)\n",
    "plt.show() "
   ]
  }
 ],
 "metadata": {
  "kernelspec": {
   "display_name": "Python 3",
   "language": "python",
   "name": "python3"
  },
  "language_info": {
   "codemirror_mode": {
    "name": "ipython",
    "version": 3
   },
   "file_extension": ".py",
   "mimetype": "text/x-python",
   "name": "python",
   "nbconvert_exporter": "python",
   "pygments_lexer": "ipython3",
   "version": "3.13.2"
  }
 },
 "nbformat": 4,
 "nbformat_minor": 5
}
